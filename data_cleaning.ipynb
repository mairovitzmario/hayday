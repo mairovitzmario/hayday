{
 "cells": [
  {
   "cell_type": "markdown",
   "metadata": {},
   "source": [
    "Cleaning the data"
   ]
  },
  {
   "cell_type": "code",
   "execution_count": 15,
   "metadata": {},
   "outputs": [],
   "source": [
    "import pandas as pd"
   ]
  },
  {
   "cell_type": "code",
   "execution_count": 16,
   "metadata": {},
   "outputs": [
    {
     "data": {
      "text/html": [
       "<div>\n",
       "<style scoped>\n",
       "    .dataframe tbody tr th:only-of-type {\n",
       "        vertical-align: middle;\n",
       "    }\n",
       "\n",
       "    .dataframe tbody tr th {\n",
       "        vertical-align: top;\n",
       "    }\n",
       "\n",
       "    .dataframe thead th {\n",
       "        text-align: right;\n",
       "    }\n",
       "</style>\n",
       "<table border=\"1\" class=\"dataframe\">\n",
       "  <thead>\n",
       "    <tr style=\"text-align: right;\">\n",
       "      <th></th>\n",
       "      <th>Name</th>\n",
       "      <th>Level</th>\n",
       "      <th>Max. price</th>\n",
       "      <th>Time</th>\n",
       "      <th>XP</th>\n",
       "      <th>Needs</th>\n",
       "      <th>Source</th>\n",
       "      <th>Per boat crate</th>\n",
       "    </tr>\n",
       "  </thead>\n",
       "  <tbody>\n",
       "    <tr>\n",
       "      <th>0</th>\n",
       "      <td>Wheat</td>\n",
       "      <td>1</td>\n",
       "      <td>3</td>\n",
       "      <td>2 min</td>\n",
       "      <td>1</td>\n",
       "      <td>Wheat (1)</td>\n",
       "      <td>Field (1st crop)</td>\n",
       "      <td>50-101</td>\n",
       "    </tr>\n",
       "    <tr>\n",
       "      <th>1</th>\n",
       "      <td>Egg</td>\n",
       "      <td>1</td>\n",
       "      <td>18</td>\n",
       "      <td>20 min</td>\n",
       "      <td>2</td>\n",
       "      <td>Chicken feed (1)</td>\n",
       "      <td>Chicken (1st animal product)</td>\n",
       "      <td>15-24</td>\n",
       "    </tr>\n",
       "    <tr>\n",
       "      <th>2</th>\n",
       "      <td>Corn</td>\n",
       "      <td>2</td>\n",
       "      <td>7</td>\n",
       "      <td>5 min</td>\n",
       "      <td>1</td>\n",
       "      <td>Corn (1)</td>\n",
       "      <td>Field (2nd crop)</td>\n",
       "      <td>50-87</td>\n",
       "    </tr>\n",
       "    <tr>\n",
       "      <th>3</th>\n",
       "      <td>Bread</td>\n",
       "      <td>2</td>\n",
       "      <td>21</td>\n",
       "      <td>5 min★★★ 4 min</td>\n",
       "      <td>3</td>\n",
       "      <td>Wheat (3)</td>\n",
       "      <td>Bakery</td>\n",
       "      <td>14-26</td>\n",
       "    </tr>\n",
       "    <tr>\n",
       "      <th>4</th>\n",
       "      <td>Chicken feed</td>\n",
       "      <td>3</td>\n",
       "      <td>7</td>\n",
       "      <td>5 min★★★ 4 min</td>\n",
       "      <td>1</td>\n",
       "      <td>Corn (1)\\nWheat (2)</td>\n",
       "      <td>Feed Mill</td>\n",
       "      <td>NaN</td>\n",
       "    </tr>\n",
       "  </tbody>\n",
       "</table>\n",
       "</div>"
      ],
      "text/plain": [
       "           Name Level  Max. price            Time XP                Needs  \\\n",
       "0         Wheat     1           3           2 min  1            Wheat (1)   \n",
       "1           Egg     1          18          20 min  2     Chicken feed (1)   \n",
       "2          Corn     2           7           5 min  1             Corn (1)   \n",
       "3         Bread     2          21  5 min★★★ 4 min  3            Wheat (3)   \n",
       "4  Chicken feed     3           7  5 min★★★ 4 min  1  Corn (1)\\nWheat (2)   \n",
       "\n",
       "                         Source Per boat crate  \n",
       "0              Field (1st crop)         50-101  \n",
       "1  Chicken (1st animal product)          15-24  \n",
       "2              Field (2nd crop)          50-87  \n",
       "3                        Bakery          14-26  \n",
       "4                     Feed Mill            NaN  "
      ]
     },
     "execution_count": 16,
     "metadata": {},
     "output_type": "execute_result"
    }
   ],
   "source": [
    "df = pd.read_csv('data/hayday_item_data.csv')\n",
    "df.head()"
   ]
  },
  {
   "cell_type": "markdown",
   "metadata": {},
   "source": [
    "Cleaning columns"
   ]
  },
  {
   "cell_type": "code",
   "execution_count": 17,
   "metadata": {},
   "outputs": [],
   "source": [
    "df = df.drop(columns=['XP', 'Needs', 'Per boat crate'])"
   ]
  },
  {
   "cell_type": "code",
   "execution_count": 18,
   "metadata": {},
   "outputs": [],
   "source": [
    "df['Level'] = df['Level'].apply(lambda x: int(x.split()[0]))\n",
    "df['Max. price'] = df['Max. price'].apply(lambda x: int(x))"
   ]
  },
  {
   "cell_type": "code",
   "execution_count": 19,
   "metadata": {},
   "outputs": [
    {
     "data": {
      "text/html": [
       "<div>\n",
       "<style scoped>\n",
       "    .dataframe tbody tr th:only-of-type {\n",
       "        vertical-align: middle;\n",
       "    }\n",
       "\n",
       "    .dataframe tbody tr th {\n",
       "        vertical-align: top;\n",
       "    }\n",
       "\n",
       "    .dataframe thead th {\n",
       "        text-align: right;\n",
       "    }\n",
       "</style>\n",
       "<table border=\"1\" class=\"dataframe\">\n",
       "  <thead>\n",
       "    <tr style=\"text-align: right;\">\n",
       "      <th></th>\n",
       "      <th>Name</th>\n",
       "      <th>Level</th>\n",
       "      <th>Max. price</th>\n",
       "      <th>Time</th>\n",
       "      <th>Source</th>\n",
       "    </tr>\n",
       "  </thead>\n",
       "  <tbody>\n",
       "    <tr>\n",
       "      <th>0</th>\n",
       "      <td>Wheat</td>\n",
       "      <td>1</td>\n",
       "      <td>3</td>\n",
       "      <td>2 min</td>\n",
       "      <td>Field (1st crop)</td>\n",
       "    </tr>\n",
       "    <tr>\n",
       "      <th>1</th>\n",
       "      <td>Egg</td>\n",
       "      <td>1</td>\n",
       "      <td>18</td>\n",
       "      <td>20 min</td>\n",
       "      <td>Chicken (1st animal product)</td>\n",
       "    </tr>\n",
       "    <tr>\n",
       "      <th>2</th>\n",
       "      <td>Corn</td>\n",
       "      <td>2</td>\n",
       "      <td>7</td>\n",
       "      <td>5 min</td>\n",
       "      <td>Field (2nd crop)</td>\n",
       "    </tr>\n",
       "    <tr>\n",
       "      <th>3</th>\n",
       "      <td>Bread</td>\n",
       "      <td>2</td>\n",
       "      <td>21</td>\n",
       "      <td>5 min★★★ 4 min</td>\n",
       "      <td>Bakery</td>\n",
       "    </tr>\n",
       "    <tr>\n",
       "      <th>4</th>\n",
       "      <td>Chicken feed</td>\n",
       "      <td>3</td>\n",
       "      <td>7</td>\n",
       "      <td>5 min★★★ 4 min</td>\n",
       "      <td>Feed Mill</td>\n",
       "    </tr>\n",
       "  </tbody>\n",
       "</table>\n",
       "</div>"
      ],
      "text/plain": [
       "           Name  Level  Max. price            Time  \\\n",
       "0         Wheat      1           3           2 min   \n",
       "1           Egg      1          18          20 min   \n",
       "2          Corn      2           7           5 min   \n",
       "3         Bread      2          21  5 min★★★ 4 min   \n",
       "4  Chicken feed      3           7  5 min★★★ 4 min   \n",
       "\n",
       "                         Source  \n",
       "0              Field (1st crop)  \n",
       "1  Chicken (1st animal product)  \n",
       "2              Field (2nd crop)  \n",
       "3                        Bakery  \n",
       "4                     Feed Mill  "
      ]
     },
     "execution_count": 19,
     "metadata": {},
     "output_type": "execute_result"
    }
   ],
   "source": [
    "df.head()"
   ]
  },
  {
   "cell_type": "markdown",
   "metadata": {},
   "source": [
    "Cleaning time column"
   ]
  },
  {
   "cell_type": "code",
   "execution_count": 20,
   "metadata": {},
   "outputs": [],
   "source": [
    "df.loc[df['Time'].str.contains('Instant') , 'Time'] = 0"
   ]
  },
  {
   "cell_type": "code",
   "execution_count": 21,
   "metadata": {},
   "outputs": [
    {
     "name": "stdout",
     "output_type": "stream",
     "text": [
      "14530\n",
      "130\n"
     ]
    }
   ],
   "source": [
    "import re\n",
    "\n",
    "def clean_time_string(time_txt: str):\n",
    "\n",
    "    if(type(time_txt) == int):\n",
    "        return time_txt\n",
    "    \n",
    "    allowed_characters = '1234567890minhd '\n",
    "    split_poz = -1\n",
    "\n",
    "    for i in range(len(time_txt)):\n",
    "        if time_txt[i] not in allowed_characters:\n",
    "            if split_poz == -1:\n",
    "                split_poz = i\n",
    "    \n",
    "    time_txt = re.sub(r'[^a-zA-Z0-9 ]+', '', time_txt)\n",
    "\n",
    "    if split_poz != -1:\n",
    "        time_txt = time_txt[:split_poz]\n",
    "\n",
    "    time_txt = time_txt.strip()\n",
    "\n",
    "    time_list = time_txt.split()\n",
    "    time_int = 0\n",
    "\n",
    "    for i in range(len(time_list)-1):\n",
    "        try:\n",
    "            number = int(time_list[i])\n",
    "\n",
    "            metric = time_list[i+1]\n",
    "            if metric == 'h':\n",
    "                number = number * 60\n",
    "            elif metric == 'd':\n",
    "                number = number * 60 * 24\n",
    "            \n",
    "            time_int += number\n",
    "        except:\n",
    "            pass\n",
    "\n",
    "    \n",
    "    return time_int\n",
    "\n",
    "print(clean_time_string('2 h 10 min 10 d★★★ 1 h 42 min'))\n",
    "print(clean_time_string('2 h 10 min'))"
   ]
  },
  {
   "cell_type": "code",
   "execution_count": 22,
   "metadata": {},
   "outputs": [],
   "source": [
    "df['Time'] = df['Time'].apply(lambda x: clean_time_string(x))"
   ]
  },
  {
   "cell_type": "code",
   "execution_count": 23,
   "metadata": {},
   "outputs": [],
   "source": [
    "df.rename(columns={'Time': 'Time (min)', 'Max. price' : 'Price'}, inplace=True)"
   ]
  },
  {
   "cell_type": "code",
   "execution_count": 24,
   "metadata": {},
   "outputs": [
    {
     "data": {
      "text/html": [
       "<div>\n",
       "<style scoped>\n",
       "    .dataframe tbody tr th:only-of-type {\n",
       "        vertical-align: middle;\n",
       "    }\n",
       "\n",
       "    .dataframe tbody tr th {\n",
       "        vertical-align: top;\n",
       "    }\n",
       "\n",
       "    .dataframe thead th {\n",
       "        text-align: right;\n",
       "    }\n",
       "</style>\n",
       "<table border=\"1\" class=\"dataframe\">\n",
       "  <thead>\n",
       "    <tr style=\"text-align: right;\">\n",
       "      <th></th>\n",
       "      <th>Name</th>\n",
       "      <th>Level</th>\n",
       "      <th>Price</th>\n",
       "      <th>Time (min)</th>\n",
       "      <th>Source</th>\n",
       "    </tr>\n",
       "  </thead>\n",
       "  <tbody>\n",
       "    <tr>\n",
       "      <th>0</th>\n",
       "      <td>Wheat</td>\n",
       "      <td>1</td>\n",
       "      <td>3</td>\n",
       "      <td>2</td>\n",
       "      <td>Field (1st crop)</td>\n",
       "    </tr>\n",
       "    <tr>\n",
       "      <th>1</th>\n",
       "      <td>Egg</td>\n",
       "      <td>1</td>\n",
       "      <td>18</td>\n",
       "      <td>20</td>\n",
       "      <td>Chicken (1st animal product)</td>\n",
       "    </tr>\n",
       "    <tr>\n",
       "      <th>2</th>\n",
       "      <td>Corn</td>\n",
       "      <td>2</td>\n",
       "      <td>7</td>\n",
       "      <td>5</td>\n",
       "      <td>Field (2nd crop)</td>\n",
       "    </tr>\n",
       "    <tr>\n",
       "      <th>3</th>\n",
       "      <td>Bread</td>\n",
       "      <td>2</td>\n",
       "      <td>21</td>\n",
       "      <td>5</td>\n",
       "      <td>Bakery</td>\n",
       "    </tr>\n",
       "    <tr>\n",
       "      <th>4</th>\n",
       "      <td>Chicken feed</td>\n",
       "      <td>3</td>\n",
       "      <td>7</td>\n",
       "      <td>5</td>\n",
       "      <td>Feed Mill</td>\n",
       "    </tr>\n",
       "  </tbody>\n",
       "</table>\n",
       "</div>"
      ],
      "text/plain": [
       "           Name  Level  Price  Time (min)                        Source\n",
       "0         Wheat      1      3           2              Field (1st crop)\n",
       "1           Egg      1     18          20  Chicken (1st animal product)\n",
       "2          Corn      2      7           5              Field (2nd crop)\n",
       "3         Bread      2     21           5                        Bakery\n",
       "4  Chicken feed      3      7           5                     Feed Mill"
      ]
     },
     "execution_count": 24,
     "metadata": {},
     "output_type": "execute_result"
    }
   ],
   "source": [
    "df.head()"
   ]
  },
  {
   "cell_type": "code",
   "execution_count": 25,
   "metadata": {},
   "outputs": [
    {
     "name": "stdout",
     "output_type": "stream",
     "text": [
      "Data saved to data/clean_hayday_item_data.csv\n"
     ]
    }
   ],
   "source": [
    "df.to_csv('data/clean_hayday_item_data.csv', index=False)\n",
    "\n",
    "print(\"Data saved to data/clean_hayday_item_data.csv\")"
   ]
  }
 ],
 "metadata": {
  "kernelspec": {
   "display_name": "Python 3",
   "language": "python",
   "name": "python3"
  },
  "language_info": {
   "codemirror_mode": {
    "name": "ipython",
    "version": 3
   },
   "file_extension": ".py",
   "mimetype": "text/x-python",
   "name": "python",
   "nbconvert_exporter": "python",
   "pygments_lexer": "ipython3",
   "version": "3.12.3"
  }
 },
 "nbformat": 4,
 "nbformat_minor": 2
}
